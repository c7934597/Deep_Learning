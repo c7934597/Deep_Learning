{
 "cells": [
  {
   "cell_type": "markdown",
   "metadata": {},
   "source": [
    "# Image_Preprocessing"
   ]
  },
  {
   "cell_type": "markdown",
   "metadata": {},
   "source": [
    "<a class=\"anchor\" id=\"0\"></a>\n",
    "# Table of Contents\n",
    "\n",
    "1. [套件安裝與載入](#1)\n",
    "1. [環境檢測與設定](#2)\n",
    "1. [資料處理參數設定](#3)\n",
    "1. [資料處理](#4)\n",
    "    -  [載入CSV檔](#4.1)\n",
    "    -  [檢查CSV檔缺失值](#4.2)\n",
    "1. [裁切圖片](#5)"
   ]
  },
  {
   "cell_type": "markdown",
   "metadata": {},
   "source": [
    "# 1. 套件安裝與載入<a class=\"anchor\" id=\"1\"></a>\n",
    "[Back to Table of Contents](#0)"
   ]
  },
  {
   "cell_type": "code",
   "execution_count": null,
   "metadata": {},
   "outputs": [],
   "source": [
    "# 資料處理套件\n",
    "import os\n",
    "import cv2\n",
    "import csv\n",
    "import numpy as np\n",
    "import pandas as pd"
   ]
  },
  {
   "cell_type": "markdown",
   "metadata": {},
   "source": [
    "# 2. 環境檢測與設定<a class=\"anchor\" id=\"2\"></a>\n",
    "[Back to Table of Contents](#0)"
   ]
  },
  {
   "cell_type": "code",
   "execution_count": null,
   "metadata": {},
   "outputs": [],
   "source": [
    "'''執行環境參數設定'''\n",
    "\n",
    "# (Boolean)是否為本機\n",
    "LOCAL = True\n",
    "\n",
    "# (Boolean)是否為 Colab\n",
    "COLAB = False\n",
    "\n",
    "\n",
    "'''檔案路徑參數設定'''\n",
    "\n",
    "# (String)Root路徑\n",
    "if LOCAL:\n",
    "    PATH = r'../'\n",
    "elif COLAB:\n",
    "    PATH = r'/content/drive/My Drive/Colab Notebooks/'\n",
    "else:\n",
    "    PATH = r'../input/'\n",
    "    \n",
    "# (String)資料根路徑\n",
    "DATA_ROOT_PATH = PATH+r'datasets/AI_CUP_2020_AIMango_Grade_Classification/' \n",
    "\n",
    "# (String)訓練資料路徑\n",
    "TRAIN_DATA_PATH = DATA_ROOT_PATH+r'C1-P2_Train Dev/Train'\n",
    "\n",
    "# (String)訓練CSV路徑，如為None則不讀CSV檔\n",
    "TRAIN_CSV_PATH = DATA_ROOT_PATH+r'C1-P2_Train Dev/train.csv'\n",
    "\n",
    "# (String)測試資料路徑\n",
    "TEST_DATA_PATH = DATA_ROOT_PATH+r'C1-P2_Train Dev/Dev'\n",
    "\n",
    "# (String)測試CSV路徑，如為None則不讀CSV檔\n",
    "TEST_CSV_PATH = DATA_ROOT_PATH+r'C1-P2_Train Dev/dev.csv'\n",
    "\n",
    "# (String)建立裁切時需要的訓練集資料夾名稱\n",
    "TRAIN_CROPPED_PATH = DATA_ROOT_PATH+r'C1-P2_Train Dev/Train_Cropped'\n",
    "\n",
    "# (String)建立裁切時需要的測試集資料夾名稱\n",
    "TEST_CROPPED_PATH = DATA_ROOT_PATH+r'C1-P2_Train Dev/Test_Cropped'"
   ]
  },
  {
   "cell_type": "code",
   "execution_count": null,
   "metadata": {},
   "outputs": [],
   "source": [
    "if not LOCAL and COLAB:\n",
    "    from google.colab import drive\n",
    "    drive.mount('/content/drive')"
   ]
  },
  {
   "cell_type": "code",
   "execution_count": null,
   "metadata": {},
   "outputs": [],
   "source": [
    "if os.path.isfile(TRAIN_CSV_PATH) and os.path.isfile(TEST_CSV_PATH):\n",
    "    LOAD_CSV = True\n",
    "else:\n",
    "    LOAD_CSV = False"
   ]
  },
  {
   "cell_type": "code",
   "execution_count": null,
   "metadata": {},
   "outputs": [],
   "source": [
    "# 建立CROPPED圖片時需要的資料夾\n",
    "if not os.path.isdir(TRAIN_CROPPED_PATH):\n",
    "    os.mkdir(TRAIN_CROPPED_PATH)\n",
    "\n",
    "if not os.path.isdir(TEST_CROPPED_PATH):\n",
    "    os.mkdir(TEST_CROPPED_PATH)"
   ]
  },
  {
   "cell_type": "markdown",
   "metadata": {},
   "source": [
    "# 3. 資料處理參數設定<a class=\"anchor\" id=\"3\"></a>\n",
    "[Back to Table of Contents](#0)"
   ]
  },
  {
   "cell_type": "code",
   "execution_count": null,
   "metadata": {},
   "outputs": [],
   "source": [
    "'''客製參數設定'''\n",
    "\n",
    "\n",
    "'''資料參數設定'''\n",
    "\n",
    "# (Int)圖片尺寸\n",
    "IMAGE_SIZE = 512\n",
    "\n",
    "# (Boolean)是否要裁切圖片\n",
    "CROPPED_IMGS = False\n",
    "\n",
    "# (String)圖片副檔名\n",
    "IMAGE_NAME_EXTENSION = '.jpg'\n",
    "\n",
    "# (String)CSV標籤欄位\n",
    "LABEL_NAME = 'grade'"
   ]
  },
  {
   "cell_type": "markdown",
   "metadata": {},
   "source": [
    "# 4. 資料處理<a class=\"anchor\" id=\"4\"></a>\n",
    "[Back to Table of Contents](#0)"
   ]
  },
  {
   "cell_type": "markdown",
   "metadata": {},
   "source": [
    "## 4.1 載入CSV檔 <a class=\"anchor\" id=\"4.1\"></a>\n",
    "[Back to Table of Contents](#0)"
   ]
  },
  {
   "cell_type": "code",
   "execution_count": null,
   "metadata": {},
   "outputs": [],
   "source": [
    "if LOAD_CSV:\n",
    "    print('Reading data...')\n",
    "\n",
    "    # 讀取訓練資料集CSV檔\n",
    "    train_csv = pd.read_csv(TRAIN_CSV_PATH,encoding=\"utf8\")\n",
    "\n",
    "    # 讀取測試資料集CSV檔\n",
    "    test_csv = pd.read_csv(TEST_CSV_PATH,encoding=\"utf8\")\n",
    "\n",
    "    print('Reading data completed')"
   ]
  },
  {
   "cell_type": "code",
   "execution_count": null,
   "metadata": {},
   "outputs": [],
   "source": [
    "if LOAD_CSV:\n",
    "    # 顯示訓練資料集CSV檔\n",
    "    print(train_csv.head())"
   ]
  },
  {
   "cell_type": "code",
   "execution_count": null,
   "metadata": {},
   "outputs": [],
   "source": [
    "if LOAD_CSV:\n",
    "    print(\"Shape of train_data :\", train_csv.shape)"
   ]
  },
  {
   "cell_type": "code",
   "execution_count": null,
   "metadata": {},
   "outputs": [],
   "source": [
    "if LOAD_CSV:\n",
    "    # 顯示測試資料集CSV檔\n",
    "    print(test_csv.head())"
   ]
  },
  {
   "cell_type": "code",
   "execution_count": null,
   "metadata": {},
   "outputs": [],
   "source": [
    "if LOAD_CSV:\n",
    "    print(\"Shape of test_data :\", test_csv.shape)"
   ]
  },
  {
   "cell_type": "markdown",
   "metadata": {},
   "source": [
    "## 4.2 檢查CSV檔缺失值 <a class=\"anchor\" id=\"4.2\"></a>\n",
    "[Back to Table of Contents](#0)"
   ]
  },
  {
   "cell_type": "code",
   "execution_count": null,
   "metadata": {},
   "outputs": [],
   "source": [
    "if LOAD_CSV:\n",
    "    total = train_csv.isnull().sum().sort_values(ascending = False)\n",
    "    percent = (train_csv.isnull().sum()/train_csv.isnull().count()*100).sort_values(ascending = False)\n",
    "    missing_train_csv  = pd.concat([total, percent], axis=1, keys=['Total', 'Percent'])\n",
    "    print(missing_train_csv.head())"
   ]
  },
  {
   "cell_type": "code",
   "execution_count": null,
   "metadata": {},
   "outputs": [],
   "source": [
    "if LOAD_CSV:\n",
    "    print(train_csv[LABEL_NAME].value_counts())"
   ]
  },
  {
   "cell_type": "markdown",
   "metadata": {},
   "source": [
    "# 5. 裁切圖片<a class=\"anchor\" id=\"5\"></a>\n",
    "[Back to Table of Contents](#0)"
   ]
  },
  {
   "cell_type": "code",
   "execution_count": null,
   "metadata": {},
   "outputs": [],
   "source": [
    "if CROPPED_IMGS and LOAD_CSV:\n",
    "    print(\"Processing\")\n",
    "    \n",
    "    for index,row in  train_csv.iterrows():\n",
    "        filepath=TRAIN_DATA_PATH+'/'+row['image_id'] \n",
    "        img = cv2.imdecode(np.fromfile(filepath),cv2.IMREAD_COLOR)\n",
    "\n",
    "        # 裁切區域的 x 與 y 座標（左上角）\n",
    "        x = row['pos_x']\n",
    "        y = row['pos_y']\n",
    "\n",
    "        # 裁切區域的長度與寬度\n",
    "        w = row['width']\n",
    "        h = row['height']\n",
    "\n",
    "        if x<0:\n",
    "            x = 0\n",
    "            w =  w + abs(x)\n",
    "\n",
    "        if y<0:\n",
    "            y = 0\n",
    "            h =  h + abs(y)\n",
    "\n",
    "        # 裁切圖片\n",
    "        img = img[y:y+h, x:x+w]\n",
    "\n",
    "        # 因為圖片比例大小不同，所以把圖片的比例壓縮\n",
    "        img = cv2.resize(img,(IMAGE_SIZE,IMAGE_SIZE),interpolation=cv2.INTER_LINEAR)\n",
    "\n",
    "        #寫入圖片到資料夾\n",
    "        cv2.imencode(IMAGE_NAME_EXTENSION, img, (cv2.IMWRITE_JPEG_QUALITY, 100))[1].tofile(TRAIN_CROPPED_PATH+\"/\"+row['image_id'])\n",
    "\n",
    "    for index,row in  test_csv.iterrows():\n",
    "        filepath=TEST_DATA_PATH+'/'+row['image_id'] \n",
    "        img = cv2.imdecode(np.fromfile(filepath),cv2.IMREAD_COLOR)\n",
    "\n",
    "        # 裁切區域的 x 與 y 座標（左上角）\n",
    "        x = row['pos_x']\n",
    "        y = row['pos_y']\n",
    "\n",
    "        # 裁切區域的長度與寬度\n",
    "        w = row['width']\n",
    "        h = row['height']\n",
    "\n",
    "        if x<0:\n",
    "            x = 0\n",
    "            w =  w + abs(x)\n",
    "\n",
    "        if y<0:\n",
    "            y = 0\n",
    "            h =  h + abs(y)\n",
    "\n",
    "        # 裁切圖片\n",
    "        img = img[y:y+h, x:x+w]\n",
    "\n",
    "        # 因為圖片比例大小不同，所以把圖片的比例壓縮\n",
    "        img = cv2.resize(img,(IMAGE_SIZE,IMAGE_SIZE),interpolation=cv2.INTER_LINEAR)\n",
    "\n",
    "        #寫入圖片到資料夾\n",
    "        cv2.imencode(IMAGE_NAME_EXTENSION, img, (cv2.IMWRITE_JPEG_QUALITY, 100))[1].tofile(TEST_CROPPED_PATH+\"/\"+row['image_id'])\n",
    "\n",
    "    print(\"Done\")"
   ]
  },
  {
   "cell_type": "markdown",
   "metadata": {},
   "source": [
    "[Go to Top](#0)"
   ]
  },
  {
   "cell_type": "code",
   "execution_count": null,
   "metadata": {},
   "outputs": [],
   "source": []
  }
 ],
 "metadata": {
  "kernelspec": {
   "display_name": "Python 3",
   "language": "python",
   "name": "python3"
  },
  "language_info": {
   "codemirror_mode": {
    "name": "ipython",
    "version": 3
   },
   "file_extension": ".py",
   "mimetype": "text/x-python",
   "name": "python",
   "nbconvert_exporter": "python",
   "pygments_lexer": "ipython3",
   "version": "3.6.9"
  }
 },
 "nbformat": 4,
 "nbformat_minor": 4
}
