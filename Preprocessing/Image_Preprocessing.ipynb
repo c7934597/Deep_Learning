{
 "cells": [
  {
   "cell_type": "markdown",
   "metadata": {},
   "source": [
    "# Image_Preprocessing"
   ]
  },
  {
   "cell_type": "markdown",
   "metadata": {},
   "source": [
    "<a class=\"anchor\" id=\"0\"></a>\n",
    "# Table of Contents\n",
    "\n",
    "1. [套件安裝與載入](#1)\n",
    "1. [環境檢測與設定](#2)\n",
    "1. [資料處理參數設定](#3)\n",
    "1. [資料處理](#4)\n",
    "    -  [載入CSV檔](#4.1)\n",
    "    -  [檢查CSV檔缺失值](#4.2)\n",
    "1. [圖片預處理](#5)\n",
    "    -  [圖片對比度轉換視覺化](#5.1)\n",
    "    -  [圖片轉換](#5.2)\n",
    "1. [指定座標裁切圖片](#6)"
   ]
  },
  {
   "cell_type": "markdown",
   "metadata": {},
   "source": [
    "# 1. 套件安裝與載入<a class=\"anchor\" id=\"1\"></a>\n",
    "[Back to Table of Contents](#0)"
   ]
  },
  {
   "cell_type": "code",
   "execution_count": null,
   "metadata": {},
   "outputs": [],
   "source": [
    "# 資料處理套件\n",
    "import os\n",
    "import cv2\n",
    "import csv\n",
    "import numpy as np\n",
    "import pandas as pd\n",
    "import matplotlib.pyplot as plt\n",
    "%matplotlib inline\n",
    "\n",
    "from tqdm import tqdm"
   ]
  },
  {
   "cell_type": "markdown",
   "metadata": {},
   "source": [
    "# 2. 環境檢測與設定<a class=\"anchor\" id=\"2\"></a>\n",
    "[Back to Table of Contents](#0)"
   ]
  },
  {
   "cell_type": "code",
   "execution_count": null,
   "metadata": {},
   "outputs": [],
   "source": [
    "'''執行環境參數設定'''\n",
    "\n",
    "# (Boolean)是否為本機\n",
    "LOCAL = False\n",
    "\n",
    "# (Boolean)是否為 Colab\n",
    "COLAB = False\n",
    "\n",
    "\n",
    "'''檔案路徑參數設定'''\n",
    "\n",
    "# (String)Root路徑\n",
    "if LOCAL:\n",
    "    PATH = r'../'\n",
    "elif COLAB:\n",
    "    PATH = r'/content/drive/My Drive/Colab Notebooks/'\n",
    "else:\n",
    "    PATH = r'../input/'\n",
    "    OUTPUT_PATH = r'/kaggle/working/'\n",
    "    \n",
    "# (String)資料根路徑\n",
    "# DATA_ROOT_PATH = PATH+r'datasets/AI_CUP_2020_AIMango_Grade_Classification/'\n",
    "DATA_ROOT_PATH = PATH+r'data/images_001/'\n",
    "\n",
    "# (String)訓練資料路徑\n",
    "# TRAIN_DATA_PATH = DATA_ROOT_PATH+r'C1-P2_Train Dev/Train'\n",
    "TRAIN_DATA_PATH = DATA_ROOT_PATH+r'images'\n",
    "\n",
    "# (String)訓練CSV路徑，如為None則不讀CSV檔\n",
    "TRAIN_CSV_PATH = DATA_ROOT_PATH+r'C1-P2_Train Dev/train.csv'\n",
    "\n",
    "# (String)測試資料路徑\n",
    "TEST_DATA_PATH = DATA_ROOT_PATH+r'C1-P2_Train Dev/Dev'\n",
    "\n",
    "# (String)測試CSV路徑，如為None則不讀CSV檔\n",
    "TEST_CSV_PATH = DATA_ROOT_PATH+r'C1-P2_Train Dev/dev.csv'\n",
    "\n",
    "# (String)建立對比轉換時需要的訓練集資料夾名稱\n",
    "if not LOCAL and not COLAB:\n",
    "    TRAIN_PREPROCESSING_PATH = OUTPUT_PATH+r'Train_Contrast'\n",
    "else:\n",
    "    TRAIN_PREPROCESSING_PATH = DATA_ROOT_PATH+r'C1-P2_Train Dev/Train_Contrast'\n",
    "\n",
    "# (String)建立對比轉換時需要的測試集資料夾名稱\n",
    "if not LOCAL and not COLAB:\n",
    "    TEST_PREPROCESSING_PATH = OUTPUT_PATH+r'Test_Contrast'\n",
    "else:\n",
    "    TEST_PREPROCESSING_PATH = DATA_ROOT_PATH+r'C1-P2_Train Dev/Test_Contrast'\n",
    "\n",
    "# (String)建立裁切時需要的訓練集資料夾名稱\n",
    "if not LOCAL and not COLAB:\n",
    "    TRAIN_CROPPED_PATH = OUTPUT_PATH+r'Train_Cropped'\n",
    "else:\n",
    "    TRAIN_CROPPED_PATH = DATA_ROOT_PATH+r'C1-P2_Train Dev/Train_Cropped'\n",
    "\n",
    "# (String)建立裁切時需要的測試集資料夾名稱\n",
    "if not LOCAL and not COLAB:\n",
    "    TEST_CROPPED_PATH = OUTPUT_PATH+r'Test_Cropped'\n",
    "else:\n",
    "    TEST_CROPPED_PATH = DATA_ROOT_PATH+r'C1-P2_Train Dev/Test_Cropped'"
   ]
  },
  {
   "cell_type": "code",
   "execution_count": null,
   "metadata": {},
   "outputs": [],
   "source": [
    "if not LOCAL and COLAB:\n",
    "    from google.colab import drive\n",
    "    drive.mount('/content/drive')"
   ]
  },
  {
   "cell_type": "code",
   "execution_count": null,
   "metadata": {},
   "outputs": [],
   "source": [
    "if os.path.isfile(TRAIN_CSV_PATH) and os.path.isfile(TEST_CSV_PATH):\n",
    "    LOAD_CSV = True\n",
    "else:\n",
    "    LOAD_CSV = False"
   ]
  },
  {
   "cell_type": "markdown",
   "metadata": {},
   "source": [
    "# 3. 資料處理參數設定<a class=\"anchor\" id=\"3\"></a>\n",
    "[Back to Table of Contents](#0)"
   ]
  },
  {
   "cell_type": "code",
   "execution_count": null,
   "metadata": {},
   "outputs": [],
   "source": [
    "'''客製參數設定'''\n",
    "\n",
    "\n",
    "'''資料參數設定'''\n",
    "\n",
    "# (Boolean)是否視覺化對比轉換後的圖\n",
    "VISUALIZATION_CONTRAST_IMGS = True\n",
    "\n",
    "# (Boolean)是否要圖片預處理\n",
    "PREPROCESSING_IMGS = True\n",
    "\n",
    "# (Int)最先裁切成的圖片尺寸(預處理適用)\n",
    "CROPPED_IMAGE_SIZE = 850\n",
    "\n",
    "# (Boolean)是否要對比轉換\n",
    "CONTRAST_IMGS = False\n",
    "\n",
    "# (Int)最終縮放後的圖片尺寸(預處理與指定座標裁切適用)\n",
    "IMAGE_SIZE = 800\n",
    "\n",
    "# (Boolean)是否要指定座標裁切圖片\n",
    "CROPPED_IMGS = False\n",
    "\n",
    "# (String)指定座標裁切圖片的圖片副檔名\n",
    "IMAGE_NAME_EXTENSION = '.jpg'\n",
    "\n",
    "# (String)指定座標裁切圖片的CSV標籤欄位\n",
    "LABEL_NAME = 'grade'"
   ]
  },
  {
   "cell_type": "code",
   "execution_count": null,
   "metadata": {},
   "outputs": [],
   "source": [
    "if PREPROCESSING_IMGS:\n",
    "    # 建立CONTRAST圖片時需要的資料夾\n",
    "    if not os.path.isdir(TRAIN_PREPROCESSING_PATH):\n",
    "        os.mkdir(TRAIN_PREPROCESSING_PATH)\n",
    "        \n",
    "    if not os.path.isdir(TEST_PREPROCESSING_PATH):\n",
    "        os.mkdir(TEST_PREPROCESSING_PATH)"
   ]
  },
  {
   "cell_type": "code",
   "execution_count": null,
   "metadata": {},
   "outputs": [],
   "source": [
    "if CROPPED_IMGS:\n",
    "    # 建立CROPPED圖片時需要的資料夾\n",
    "    if not os.path.isdir(TRAIN_CROPPED_PATH):\n",
    "        os.mkdir(TRAIN_CROPPED_PATH)\n",
    "\n",
    "    if not os.path.isdir(TEST_CROPPED_PATH):\n",
    "        os.mkdir(TEST_CROPPED_PATH)"
   ]
  },
  {
   "cell_type": "markdown",
   "metadata": {},
   "source": [
    "# 4. 資料處理<a class=\"anchor\" id=\"4\"></a>\n",
    "[Back to Table of Contents](#0)"
   ]
  },
  {
   "cell_type": "markdown",
   "metadata": {},
   "source": [
    "## 4.1 載入CSV檔 <a class=\"anchor\" id=\"4.1\"></a>\n",
    "[Back to Table of Contents](#0)"
   ]
  },
  {
   "cell_type": "code",
   "execution_count": null,
   "metadata": {},
   "outputs": [],
   "source": [
    "if LOAD_CSV:\n",
    "    print('Reading data...')\n",
    "\n",
    "    # 讀取訓練資料集CSV檔\n",
    "    train_csv = pd.read_csv(TRAIN_CSV_PATH,encoding=\"utf8\")\n",
    "\n",
    "    # 讀取測試資料集CSV檔\n",
    "    test_csv = pd.read_csv(TEST_CSV_PATH,encoding=\"utf8\")\n",
    "\n",
    "    print('Reading data completed')"
   ]
  },
  {
   "cell_type": "code",
   "execution_count": null,
   "metadata": {},
   "outputs": [],
   "source": [
    "if LOAD_CSV:\n",
    "    # 顯示訓練資料集CSV檔\n",
    "    print(train_csv.head())"
   ]
  },
  {
   "cell_type": "code",
   "execution_count": null,
   "metadata": {},
   "outputs": [],
   "source": [
    "if LOAD_CSV:\n",
    "    print(\"Shape of train_data :\", train_csv.shape)"
   ]
  },
  {
   "cell_type": "code",
   "execution_count": null,
   "metadata": {},
   "outputs": [],
   "source": [
    "if LOAD_CSV:\n",
    "    # 顯示測試資料集CSV檔\n",
    "    print(test_csv.head())"
   ]
  },
  {
   "cell_type": "code",
   "execution_count": null,
   "metadata": {},
   "outputs": [],
   "source": [
    "if LOAD_CSV:\n",
    "    print(\"Shape of test_data :\", test_csv.shape)"
   ]
  },
  {
   "cell_type": "markdown",
   "metadata": {},
   "source": [
    "## 4.2 檢查CSV檔缺失值 <a class=\"anchor\" id=\"4.2\"></a>\n",
    "[Back to Table of Contents](#0)"
   ]
  },
  {
   "cell_type": "code",
   "execution_count": null,
   "metadata": {},
   "outputs": [],
   "source": [
    "if LOAD_CSV:\n",
    "    total = train_csv.isnull().sum().sort_values(ascending = False)\n",
    "    percent = (train_csv.isnull().sum()/train_csv.isnull().count()*100).sort_values(ascending = False)\n",
    "    missing_train_csv  = pd.concat([total, percent], axis=1, keys=['Total', 'Percent'])\n",
    "    print(missing_train_csv.head(missing_train_csv.shape[0]))"
   ]
  },
  {
   "cell_type": "code",
   "execution_count": null,
   "metadata": {},
   "outputs": [],
   "source": [
    "if LOAD_CSV:\n",
    "    print(train_csv[LABEL_NAME].value_counts())"
   ]
  },
  {
   "cell_type": "markdown",
   "metadata": {},
   "source": [
    "# 5. 圖片預處理<a class=\"anchor\" id=\"5\"></a>\n",
    "[Back to Table of Contents](#0)"
   ]
  },
  {
   "cell_type": "markdown",
   "metadata": {},
   "source": [
    "## 5.1 圖片對比度轉換視覺化 <a class=\"anchor\" id=\"5.1\"></a>\n",
    "[Back to Table of Contents](#0)"
   ]
  },
  {
   "cell_type": "code",
   "execution_count": null,
   "metadata": {},
   "outputs": [],
   "source": [
    "if VISUALIZATION_CONTRAST_IMGS:\n",
    "    img = cv2.imread(os.path.join(TRAIN_DATA_PATH, os.listdir(TRAIN_DATA_PATH)[:1][0]), 0)"
   ]
  },
  {
   "cell_type": "code",
   "execution_count": null,
   "metadata": {},
   "outputs": [],
   "source": [
    "if VISUALIZATION_CONTRAST_IMGS:\n",
    "    print(f\"image shape: {img.shape}\")\n",
    "    print(f\"data type: {img.dtype}\")\n",
    "    print(f\"min: {img.min()}, max: {img.max()}\")\n",
    "    plt.imshow(img, cmap=\"gray\")\n",
    "    plt.show()"
   ]
  },
  {
   "cell_type": "code",
   "execution_count": null,
   "metadata": {},
   "outputs": [],
   "source": [
    "if VISUALIZATION_CONTRAST_IMGS:\n",
    "    plt.figure(figsize=(7, 5))\n",
    "    plt.hist(img.reshape(-1), bins=50)\n",
    "    plt.xlabel(\"pixel value\", fontsize=14)\n",
    "    plt.ylabel(\"Frequency\", fontsize=14)\n",
    "    plt.show()"
   ]
  },
  {
   "cell_type": "code",
   "execution_count": null,
   "metadata": {},
   "outputs": [],
   "source": [
    "if VISUALIZATION_CONTRAST_IMGS:\n",
    "    equalize_img = cv2.equalizeHist(img)\n",
    "\n",
    "    plt.figure(figsize=(14, 9))\n",
    "    plt.subplot(2, 2, 1)\n",
    "    plt.imshow(img, cmap=\"gray\")\n",
    "    plt.axis(\"off\")\n",
    "    plt.title(f\"Original\")\n",
    "\n",
    "    plt.subplot(2, 2, 2)\n",
    "    plt.imshow(equalize_img, cmap=\"gray\")\n",
    "    plt.axis(\"off\")\n",
    "    plt.title(f\"Histogram\")\n",
    "\n",
    "    plt.subplot(2, 2, 3)\n",
    "    plt.hist(img.reshape(-1), bins=50)\n",
    "    plt.xlabel(\"pixel value\", fontsize=14)\n",
    "    plt.ylabel(\"Frequency\", fontsize=14)\n",
    "\n",
    "    plt.subplot(2, 2, 4)\n",
    "    plt.hist(equalize_img.reshape(-1), bins=50)\n",
    "    plt.xlabel(\"pixel value\", fontsize=14)\n",
    "    plt.ylabel(\"Frequency\", fontsize=14)\n",
    "    plt.show()"
   ]
  },
  {
   "cell_type": "code",
   "execution_count": null,
   "metadata": {},
   "outputs": [],
   "source": [
    "if VISUALIZATION_CONTRAST_IMGS:\n",
    "    clahe = cv2.createCLAHE()\n",
    "    clahe_img = clahe.apply(img)\n",
    "\n",
    "    plt.figure(figsize=(20, 12))\n",
    "    plt.subplot(2, 3, 1)\n",
    "    plt.imshow(img, cmap=\"gray\")\n",
    "    plt.axis(\"off\")\n",
    "    plt.title(f\"Original\")\n",
    "\n",
    "    plt.subplot(2, 3, 2)\n",
    "    plt.imshow(equalize_img, cmap=\"gray\")\n",
    "    plt.axis(\"off\")\n",
    "    plt.title(f\"Histogram\")\n",
    "\n",
    "    plt.subplot(2, 3, 3)\n",
    "    plt.imshow(clahe_img, cmap=\"gray\")\n",
    "    plt.axis(\"off\")\n",
    "    plt.title(f\"CLAHE\")\n",
    "\n",
    "    plt.subplot(2, 3, 4)\n",
    "    plt.hist(img.reshape(-1), bins=50)\n",
    "    plt.xlabel(\"pixel value\", fontsize=14)\n",
    "    plt.ylabel(\"Frequency\", fontsize=14)\n",
    "    plt.title(f\"Original\")\n",
    "\n",
    "    plt.subplot(2, 3, 5)\n",
    "    plt.hist(equalize_img.reshape(-1), bins=50)\n",
    "    plt.xlabel(\"pixel value\", fontsize=14)\n",
    "    plt.ylabel(\"Frequency\", fontsize=14)\n",
    "    plt.title(f\"Histogram\")\n",
    "\n",
    "    plt.subplot(2, 3, 6)\n",
    "    plt.hist(clahe_img.reshape(-1), bins=50)\n",
    "    plt.xlabel(\"pixel value\", fontsize=14)\n",
    "    plt.ylabel(\"Frequency\", fontsize=14)\n",
    "    plt.title(f\"CLAHE\")\n",
    "    plt.show()"
   ]
  },
  {
   "cell_type": "markdown",
   "metadata": {},
   "source": [
    "## 5.2 圖片轉換 <a class=\"anchor\" id=\"5.2\"></a>\n",
    "[Back to Table of Contents](#0)"
   ]
  },
  {
   "cell_type": "code",
   "execution_count": null,
   "metadata": {},
   "outputs": [],
   "source": [
    "if PREPROCESSING_IMGS:\n",
    "    # 先裁切，再對比轉換，再縮放\n",
    "    def img_preprocess(filepath, img_shape=(800, 800), clahe_or_not=True, crop_shape=None):\n",
    "        img = cv2.imread(filepath, 0)\n",
    "        h, w = img.shape[0], img.shape[1]\n",
    "        ch, cw = h//2, w//2\n",
    "\n",
    "        if crop_shape!=None:\n",
    "            l_h, l_w = crop_shape[0]//2, crop_shape[1]//2\n",
    "            img = img[ch-l_h:ch+l_h, cw-l_w:cw+l_w]\n",
    "\n",
    "        if clahe_or_not:\n",
    "            clahe = cv2.createCLAHE()\n",
    "            clahe_img = clahe.apply(img)\n",
    "            img = clahe_img\n",
    "\n",
    "        if (img.shape[0], img.shape[1])!= img_shape:\n",
    "            img = cv2.resize(img, img_shape)\n",
    "\n",
    "        return img"
   ]
  },
  {
   "cell_type": "code",
   "execution_count": null,
   "metadata": {},
   "outputs": [],
   "source": [
    "if PREPROCESSING_IMGS:\n",
    "    for each_file in tqdm(os.listdir(TRAIN_DATA_PATH)):\n",
    "        old_path = os.path.join(TRAIN_DATA_PATH, each_file)\n",
    "        img = img_preprocess(old_path, \n",
    "                    img_shape=(IMAGE_SIZE, IMAGE_SIZE),\n",
    "                    clahe_or_not=CONTRAST_IMGS,\n",
    "                    crop_shape=(CROPPED_IMAGE_SIZE, CROPPED_IMAGE_SIZE))\n",
    "        new_path = TRAIN_PREPROCESSING_PATH\n",
    "        cv2.imwrite(os.path.join(new_path, each_file), img)\n",
    "        \n",
    "    for each_file in tqdm(os.listdir(TEST_DATA_PATH)):\n",
    "        old_path = os.path.join(TEST_CONTRAST_PATH, each_file)\n",
    "        img = img_preprocess(old_path, \n",
    "                    img_shape=(IMAGE_SIZE, IMAGE_SIZE),\n",
    "                    clahe_or_not=CONTRAST_IMGS,\n",
    "                    crop_shape=(CROPPED_IMAGE_SIZE, CROPPED_IMAGE_SIZE))\n",
    "        new_path = TEST_PREPROCESSING_PATH\n",
    "        cv2.imwrite(os.path.join(new_path, each_file), img)"
   ]
  },
  {
   "cell_type": "markdown",
   "metadata": {},
   "source": [
    "# 6. 指定座標裁切圖片<a class=\"anchor\" id=\"6\"></a>\n",
    "[Back to Table of Contents](#0)"
   ]
  },
  {
   "cell_type": "code",
   "execution_count": null,
   "metadata": {},
   "outputs": [],
   "source": [
    "if CROPPED_IMGS and LOAD_CSV:\n",
    "    print(\"Processing\")\n",
    "    \n",
    "    for index,row in train_csv.iterrows():\n",
    "        filepath=TRAIN_DATA_PATH+'/'+row['image_id']\n",
    "        img = cv2.imdecode(np.fromfile(filepath),cv2.IMREAD_COLOR)\n",
    "\n",
    "        # 裁切區域的 x 與 y 座標（左上角）\n",
    "        x = row['pos_x']\n",
    "        y = row['pos_y']\n",
    "\n",
    "        # 裁切區域的長度與寬度\n",
    "        w = row['width']\n",
    "        h = row['height']\n",
    "\n",
    "        if x<0:\n",
    "            x = 0\n",
    "            w =  w + abs(x)\n",
    "\n",
    "        if y<0:\n",
    "            y = 0\n",
    "            h =  h + abs(y)\n",
    "\n",
    "        # 裁切圖片\n",
    "        img = img[y:y+h, x:x+w]\n",
    "\n",
    "        # 因為圖片比例大小不同，所以把圖片的比例壓縮\n",
    "        img = cv2.resize(img,(IMAGE_SIZE,IMAGE_SIZE),interpolation=cv2.INTER_LINEAR)\n",
    "\n",
    "        #寫入圖片到資料夾\n",
    "        cv2.imencode(IMAGE_NAME_EXTENSION, img, (cv2.IMWRITE_JPEG_QUALITY, 100))[1].tofile(TRAIN_CROPPED_PATH+\"/\"+row['image_id'])\n",
    "\n",
    "    for index,row in  test_csv.iterrows():\n",
    "        filepath=TEST_DATA_PATH+'/'+row['image_id'] \n",
    "        img = cv2.imdecode(np.fromfile(filepath),cv2.IMREAD_COLOR)\n",
    "\n",
    "        # 裁切區域的 x 與 y 座標（左上角）\n",
    "        x = row['pos_x']\n",
    "        y = row['pos_y']\n",
    "\n",
    "        # 裁切區域的長度與寬度\n",
    "        w = row['width']\n",
    "        h = row['height']\n",
    "\n",
    "        if x<0:\n",
    "            x = 0\n",
    "            w =  w + abs(x)\n",
    "\n",
    "        if y<0:\n",
    "            y = 0\n",
    "            h =  h + abs(y)\n",
    "\n",
    "        # 裁切圖片\n",
    "        img = img[y:y+h, x:x+w]\n",
    "\n",
    "        # 因為圖片比例大小不同，所以把圖片的比例壓縮\n",
    "        img = cv2.resize(img,(IMAGE_SIZE,IMAGE_SIZE),interpolation=cv2.INTER_LINEAR)\n",
    "\n",
    "        #寫入圖片到資料夾\n",
    "        cv2.imencode(IMAGE_NAME_EXTENSION, img, (cv2.IMWRITE_JPEG_QUALITY, 100))[1].tofile(TEST_CROPPED_PATH+\"/\"+row['image_id'])\n",
    "\n",
    "    print(\"Done\")"
   ]
  },
  {
   "cell_type": "markdown",
   "metadata": {},
   "source": [
    "[Go to Top](#0)"
   ]
  }
 ],
 "metadata": {
  "kernelspec": {
   "display_name": "Python 3",
   "language": "python",
   "name": "python3"
  },
  "language_info": {
   "codemirror_mode": {
    "name": "ipython",
    "version": 3
   },
   "file_extension": ".py",
   "mimetype": "text/x-python",
   "name": "python",
   "nbconvert_exporter": "python",
   "pygments_lexer": "ipython3",
   "version": "3.6.9"
  }
 },
 "nbformat": 4,
 "nbformat_minor": 4
}