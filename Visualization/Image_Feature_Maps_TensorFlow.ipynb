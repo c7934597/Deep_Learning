{
 "cells": [
  {
   "cell_type": "markdown",
   "metadata": {},
   "source": [
    "# Image_Feature_Maps_TensorFlow"
   ]
  },
  {
   "cell_type": "markdown",
   "metadata": {},
   "source": [
    "<a class=\"anchor\" id=\"0\"></a>\n",
    "# Table of Contents\n",
    "\n",
    "1. [套件安裝與載入](#1)\n",
    "1. [環境檢測與設定](#2)\n",
    "1. [資料處理參數設定](#3)\n",
    "1. [資料處理](#4)\n",
    "    -  [載入模型](#4.1)\n",
    "    -  [生成完整模型特徵圖](#4.2)\n",
    "    -  [生成模型指定層特徵圖](#4.3)"
   ]
  },
  {
   "cell_type": "markdown",
   "metadata": {},
   "source": [
    "# 1. 套件安裝與載入<a class=\"anchor\" id=\"1\"></a>\n",
    "[Back to Table of Contents](#0)"
   ]
  },
  {
   "cell_type": "code",
   "execution_count": null,
   "metadata": {},
   "outputs": [],
   "source": [
    "# !pip install -q efficientnet\n",
    "# import efficientnet.tfkeras as efn"
   ]
  },
  {
   "cell_type": "code",
   "execution_count": null,
   "metadata": {},
   "outputs": [],
   "source": [
    "# !pip install tensorflow-addons\n",
    "# import tensorflow_addons.optimizers as addons_optimizers"
   ]
  },
  {
   "cell_type": "code",
   "execution_count": null,
   "metadata": {},
   "outputs": [],
   "source": [
    "# # 資料處理套件\n",
    "import cv2\n",
    "import numpy as np\n",
    "import matplotlib.pyplot as plt\n",
    "%matplotlib inline"
   ]
  },
  {
   "cell_type": "code",
   "execution_count": null,
   "metadata": {},
   "outputs": [],
   "source": [
    "# 設定顯示中文字體\n",
    "from matplotlib.font_manager import FontProperties\n",
    "plt.rcParams['font.sans-serif'] = ['Microsoft JhengHei'] # 用來正常顯示中文標籤\n",
    "plt.rcParams['font.family'] = 'AR PL UMing CN'\n",
    "plt.rcParams['axes.unicode_minus']=False # 用來正常顯示負號\n",
    "plt.rcParams.update({'figure.max_open_warning': 0}) # 關閉開啟figure數量20以上的警告"
   ]
  },
  {
   "cell_type": "code",
   "execution_count": null,
   "metadata": {},
   "outputs": [],
   "source": [
    "# # # tensorflow深度學習模組套件\n",
    "import tensorflow as tf\n",
    "import tensorflow.keras.backend as K\n",
    "\n",
    "from tensorflow import keras\n",
    "from tensorflow.keras.models import Model\n",
    "from   tensorflow.keras.preprocessing.image import img_to_array, load_img\n",
    "from tensorflow.python.client import device_lib"
   ]
  },
  {
   "cell_type": "code",
   "execution_count": null,
   "metadata": {},
   "outputs": [],
   "source": [
    "np.seterr(divide='ignore', invalid='ignore') # 在NumPy中忽略除以0的警告"
   ]
  },
  {
   "cell_type": "markdown",
   "metadata": {},
   "source": [
    "# 2. 環境檢測與設定<a class=\"anchor\" id=\"2\"></a>\n",
    "[Back to Table of Contents](#0)"
   ]
  },
  {
   "cell_type": "code",
   "execution_count": null,
   "metadata": {},
   "outputs": [],
   "source": [
    "# 查看設備\n",
    "print(device_lib.list_local_devices())"
   ]
  },
  {
   "cell_type": "code",
   "execution_count": null,
   "metadata": {},
   "outputs": [],
   "source": [
    "# 查看tensorflow版本\n",
    "print(tf.__version__)\n",
    "\n",
    "# 查看圖像通道位置\n",
    "print(K.image_data_format())"
   ]
  },
  {
   "cell_type": "code",
   "execution_count": null,
   "metadata": {},
   "outputs": [],
   "source": [
    "'''執行環境參數設定'''\n",
    "\n",
    "# (Boolean)是否為本機\n",
    "LOCAL = True\n",
    "\n",
    "# (Boolean)是否為 Colab\n",
    "COLAB = False\n",
    "\n",
    "# (String)CPU/GPU/TPU\n",
    "DEVICE = \"GPU\"\n",
    "\n",
    "\n",
    "'''檔案路徑參數設定'''\n",
    "\n",
    "# (String)Root路徑\n",
    "if LOCAL:\n",
    "    PATH = r'../'\n",
    "elif COLAB:\n",
    "    PATH = r'/content/drive/My Drive/Colab Notebooks/'\n",
    "else:\n",
    "    PATH = r'../input/'\n",
    "    \n",
    "# (String)資料根路徑\n",
    "# DATA_ROOT_PATH = PATH+r'datasets/AI_CUP_2020_AIMango_Grade_Classification/' \n",
    "DATA_ROOT_PATH = PATH+r'datasets/faces_glintasia_112x112_folders/' \n",
    "\n",
    "# (String)測試單張圖片檔案路徑\n",
    "# TRAIN_FILE_DATA_PATH = DATA_ROOT_PATH+r'C1-P2_Train Dev/Test_Cropped'\n",
    "TRAIN_FILE_DATA_PATH = DATA_ROOT_PATH+r'2'\n",
    "    \n",
    "# (String)測試單張圖片檔名\n",
    "# IMAGE_PATH =  TRAIN_FILE_DATA_PATH + '/00001.jpg'\n",
    "IMAGE_PATH =  TRAIN_FILE_DATA_PATH + '/34.jpg'\n",
    "\n",
    "# # (String)儲存層特徵圖的路徑檔名\n",
    "LAYER_FEATURE_MAP_PATH = \"layer_feature_map.png\"\n",
    "\n",
    "# # (String)儲存完整模型特徵圖的路徑檔名\n",
    "MODEL_FEATURE_MAP_PATH = \"layer_model_feature_map.png\"\n",
    "\n",
    "# (String)模型名稱(使用哪個模型)\n",
    "# MODEL_NAME = 'efficientnetb7'\n",
    "# MODEL_NAME = 'se_mobile_facenet_glintasia_1000'\n",
    "MODEL_NAME = 'se_mobile_facenet_glintasia_2000'\n",
    "\n",
    "# (String)專案名稱\n",
    "# PROJECT_NAME = 'AI_CUP_2020_AIMango_Grade_Classification'\n",
    "PROJECT_NAME = 'Face_Recognition'\n",
    "\n",
    "# (String)模型的專案路徑\n",
    "PROJECT_PATH = PATH + r'models/'+PROJECT_NAME\n",
    "\n",
    "# (String)讀取模型的儲存路徑 \n",
    "LOAD_MODEL_PATH = PROJECT_PATH + r'/' + MODEL_NAME + '.h5'"
   ]
  },
  {
   "cell_type": "code",
   "execution_count": null,
   "metadata": {},
   "outputs": [],
   "source": [
    "if not LOCAL and COLAB:\n",
    "    from google.colab import drive\n",
    "    drive.mount('/content/drive')"
   ]
  },
  {
   "cell_type": "code",
   "execution_count": null,
   "metadata": {},
   "outputs": [],
   "source": [
    "if DEVICE != \"CPU\":\n",
    "    !nvidia-smi"
   ]
  },
  {
   "cell_type": "code",
   "execution_count": null,
   "metadata": {},
   "outputs": [],
   "source": [
    "if DEVICE == \"TPU\":\n",
    "    print(\"connecting to TPU...\")\n",
    "    try:\n",
    "        tpu = tf.distribute.cluster_resolver.TPUClusterResolver()\n",
    "        print('Running on TPU ', tpu.master())\n",
    "    except ValueError:\n",
    "        print(\"Could not connect to TPU\")\n",
    "        tpu = None\n",
    "\n",
    "    if tpu:\n",
    "        try:\n",
    "            print(\"initializing  TPU ...\")\n",
    "            tf.config.experimental_connect_to_cluster(tpu)\n",
    "            tf.tpu.experimental.initialize_tpu_system(tpu)\n",
    "            strategy = tf.distribute.experimental.TPUStrategy(tpu)\n",
    "            print(\"TPU initialized\")\n",
    "        except _:\n",
    "            print(\"failed to initialize TPU\")\n",
    "    else:\n",
    "        DEVICE = \"GPU\"\n",
    "\n",
    "if DEVICE != \"TPU\":\n",
    "    print(\"Using default strategy for CPU and single GPU\")\n",
    "    strategy = tf.distribute.get_strategy()\n",
    "\n",
    "if DEVICE == \"GPU\":\n",
    "    print(\"Num GPUs Available: \", len(tf.config.experimental.list_physical_devices('GPU')))\n",
    "    \n",
    "\n",
    "AUTO     = tf.data.experimental.AUTOTUNE\n",
    "REPLICAS = strategy.num_replicas_in_sync\n",
    "print(f'REPLICAS: {REPLICAS}')"
   ]
  },
  {
   "cell_type": "code",
   "execution_count": null,
   "metadata": {},
   "outputs": [],
   "source": [
    "# 動態申請顯存\n",
    "config = tf.compat.v1.ConfigProto()\n",
    "config.gpu_options.allow_growth = True\n",
    "session = tf.compat.v1.Session(config=config)"
   ]
  },
  {
   "cell_type": "markdown",
   "metadata": {},
   "source": [
    "# 3. 資料處理參數設定<a class=\"anchor\" id=\"3\"></a>\n",
    "[Back to Table of Contents](#0)"
   ]
  },
  {
   "cell_type": "code",
   "execution_count": null,
   "metadata": {},
   "outputs": [],
   "source": [
    "'''客製參數設定'''\n",
    "\n",
    "\n",
    "'''資料參數設定'''\n",
    "\n",
    "# (Int)圖片尺寸\n",
    "# IMAGE_SIZE = 224\n",
    "IMAGE_SIZE = 112\n",
    "\n",
    "# (Int)生層哪一層特徵圖，第一層從零開始\n",
    "LAYER = 1\n",
    "    \n",
    "# (Boolean)是否印出完整模型(完整模型特徵圖模型)\n",
    "MODEL_PRINT = False\n",
    "\n",
    "# (Boolean)是否印出層特徵圖模型\n",
    "LAYER_FEATURE_MAP_MODEL_PRINT = True\n",
    "\n",
    "# (Boolean)是否生成完整模型特徵圖\n",
    "GENERATE_MODEL_FEATURE_MAP = False\n",
    "\n",
    "# (Boolean)是否生成層特徵圖\n",
    "GENERATE_LAYER_FEATURE_MAP = True\n",
    "\n",
    "# (Boolean)是否儲存完整模型特徵圖\n",
    "SAVE_MODEL_FEATURE_MAP = False\n",
    "\n",
    "# (Boolean)是否儲存層特徵圖\n",
    "SAVE_LAYER_FEATURE_MAP = False\n",
    "\n",
    "\n",
    "''''圖表參數設定'''\n",
    "\n",
    "# (Folat)模型特徵圖顯示縮放係數\n",
    "MODEL_FEATURE_MAP_SCALE = 20.\n",
    "\n",
    "# (Int)層特徵圖列表寬度\n",
    "LAYER_FEATURE_MAP_FIGSIZE_W = 50\n",
    "\n",
    "# (Int)層特徵圖列表高度\n",
    "LAYER_FEATURE_MAP_FIGSIZE_H = 50\n",
    "\n",
    "# (Int)層特徵圖列表列數，請參考layer.shape[3]整除設定，(layer.shape[0], layer.shape[1], layer.shape[2], layer.shape[3])\n",
    "LAYER_FEATURE_MAP_SUBPLOT_COULMN = 8\n",
    "\n",
    "# (Int)層特徵圖列表行數，請參考layer.shape[3]整除設定，(layer.shape[0], layer.shape[1], layer.shape[2], layer.shape[3])\n",
    "LAYER_FEATURE_MAP_SUBPLOT_ROW = 8"
   ]
  },
  {
   "cell_type": "markdown",
   "metadata": {},
   "source": [
    "# 4. 資料處理<a class=\"anchor\" id=\"4\"></a>\n",
    "[Back to Table of Contents](#0)"
   ]
  },
  {
   "cell_type": "markdown",
   "metadata": {},
   "source": [
    "## 4.1 載入模型 <a class=\"anchor\" id=\"4.1\"></a>\n",
    "[Back to Table of Contents](#0)"
   ]
  },
  {
   "cell_type": "code",
   "execution_count": null,
   "metadata": {},
   "outputs": [],
   "source": [
    "print(\"Reading the pre-trained model... \")\n",
    "model = keras.models.load_model(LOAD_MODEL_PATH)\n",
    "print(\"Reading done. \")\n",
    "\n",
    "if MODEL_PRINT:\n",
    "    model.summary()"
   ]
  },
  {
   "cell_type": "markdown",
   "metadata": {},
   "source": [
    "## 4.2 生成完整模型特徵圖 <a class=\"anchor\" id=\"4.2\"></a>\n",
    "[Back to Table of Contents](#0)"
   ]
  },
  {
   "cell_type": "code",
   "execution_count": null,
   "metadata": {},
   "outputs": [],
   "source": [
    "if GENERATE_MODEL_FEATURE_MAP:\n",
    "    # Let's define a new Model that will take an image as input, and will output\n",
    "    # intermediate representations for all layers in the previous model after\n",
    "    # the first.\n",
    "    successive_outputs = [layer.output for layer in model.layers[1:]]\n",
    "\n",
    "    #visualization_model = Model(img_input, successive_outputs)\n",
    "    visualization_model = tf.keras.models.Model(inputs = model.input, outputs = successive_outputs)\n",
    "\n",
    "    img = load_img(IMAGE_PATH, target_size=(IMAGE_SIZE, IMAGE_SIZE))  # this is a PIL image\n",
    "\n",
    "    x   = img_to_array(img) # Numpy array with shape (150, 150, 3)\n",
    "    x   = x.reshape((1,) + x.shape) # Numpy array with shape (1, 150, 150, 3)\n",
    "\n",
    "    # Rescale by 1/255\n",
    "    x /= 255.0\n",
    "\n",
    "    # Let's run our image through our network, thus obtaining all\n",
    "    # intermediate representations for this image.\n",
    "    successive_feature_maps = visualization_model.predict(x)\n",
    "\n",
    "    # These are the names of the layers, so can have them as part of our plot\n",
    "    layer_names = [layer.name for layer in model.layers]\n",
    "\n",
    "    count = 1\n",
    "    # Now let's display our representations\n",
    "    for layer_name, feature_map in zip(layer_names, successive_feature_maps):\n",
    "        print(feature_map.shape)\n",
    "        if len(feature_map.shape) == 4:\n",
    "\n",
    "            # Just do this for the conv / maxpool layers, not the fully-connected layers\n",
    "            n_features = feature_map.shape[-1]  # number of features in the feature map\n",
    "            size = feature_map.shape[1]  # feature map shape (1, size, size, n_features)\n",
    "\n",
    "            # We will tile our images in this matrix\n",
    "            display_grid = np.zeros((size, size * n_features))\n",
    "\n",
    "            # Postprocess the feature to be visually palatable\n",
    "            for i in range(n_features):\n",
    "                x  = feature_map[0, :, :, i]\n",
    "                x -= x.mean()\n",
    "                x /= x.std ()\n",
    "                x *=  64\n",
    "                x += 128\n",
    "                x  = np.clip(x, 0, 255).astype('uint8')\n",
    "                display_grid[:, i * size : (i + 1) * size] = x # Tile each filter into a horizontal grid\n",
    "\n",
    "            # Display the grid\n",
    "            scale = MODEL_FEATURE_MAP_SCALE / n_features\n",
    "            plt.figure(figsize=(scale * n_features, scale))\n",
    "            plt.title (layer_name)\n",
    "            plt.grid  (False)\n",
    "            plt.imshow(display_grid, aspect='auto', cmap='viridis')\n",
    "            \n",
    "            if SAVE_MODEL_FEATURE_MAP:\n",
    "                plt.savefig(str(count)+MODEL_FEATURE_MAP_PATH)\n",
    "                plt.show()\n",
    "                count+=1"
   ]
  },
  {
   "cell_type": "markdown",
   "metadata": {},
   "source": [
    "## 4.3 生成模型指定層特徵圖 <a class=\"anchor\" id=\"4.3\"></a>\n",
    "[Back to Table of Contents](#0)"
   ]
  },
  {
   "cell_type": "code",
   "execution_count": null,
   "metadata": {},
   "outputs": [],
   "source": [
    "if GENERATE_LAYER_FEATURE_MAP:\n",
    "    inp= model.inputs \n",
    "    print(inp)\n",
    "    out1= model.layers[LAYER]. output  \n",
    "    print(out1)\n",
    "    feature_map_1= Model(inputs= inp, outputs= out1)  \n",
    "    \n",
    "    if LAYER_FEATURE_MAP_MODEL_PRINT:\n",
    "        feature_map_1.summary()"
   ]
  },
  {
   "cell_type": "code",
   "execution_count": null,
   "metadata": {},
   "outputs": [],
   "source": [
    "if GENERATE_LAYER_FEATURE_MAP:\n",
    "    img = cv2.imread(IMAGE_PATH) # Reading an Image\n",
    "    img = cv2.resize(img,(IMAGE_SIZE,IMAGE_SIZE)) # Resizing an Image\n",
    "    input_img = np.expand_dims(img, axis=0) # Expanding the dimension\n",
    "    print(input_img.shape) # Printing out the size of the Input Image\n",
    "\n",
    "    f1 = feature_map_1.predict(input_img) # predicting out the Image \n",
    "    print(f1.shape) # Let's see the shape\n",
    "\n",
    "    fig = plt.figure(figsize = (LAYER_FEATURE_MAP_FIGSIZE_W,LAYER_FEATURE_MAP_FIGSIZE_H))\n",
    "    for i in range(f1.shape[3]):\n",
    "        ax = fig.add_subplot(LAYER_FEATURE_MAP_SUBPLOT_COULMN,LAYER_FEATURE_MAP_SUBPLOT_ROW,i + 1)\n",
    "        ax.imshow(f1[0,:,:,i])\n",
    "\n",
    "    if SAVE_LAYER_FEATURE_MAP:\n",
    "        plt.savefig(LAYER_FEATURE_MAP_PATH)\n",
    "        plt.show()"
   ]
  }
 ],
 "metadata": {
  "kernelspec": {
   "display_name": "Python 3",
   "language": "python",
   "name": "python3"
  },
  "language_info": {
   "codemirror_mode": {
    "name": "ipython",
    "version": 3
   },
   "file_extension": ".py",
   "mimetype": "text/x-python",
   "name": "python",
   "nbconvert_exporter": "python",
   "pygments_lexer": "ipython3",
   "version": "3.6.9"
  }
 },
 "nbformat": 4,
 "nbformat_minor": 4
}