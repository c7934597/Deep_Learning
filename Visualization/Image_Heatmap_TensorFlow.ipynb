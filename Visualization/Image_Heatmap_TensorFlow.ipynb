{
 "cells": [
  {
   "cell_type": "markdown",
   "metadata": {},
   "source": [
    "# Image_Heatmap_TensorFlow"
   ]
  },
  {
   "cell_type": "markdown",
   "metadata": {},
   "source": [
    "<a class=\"anchor\" id=\"0\"></a>\n",
    "# Table of Contents\n",
    "\n",
    "1. [套件安裝與載入](#1)\n",
    "1. [環境檢測與設定](#2)\n",
    "1. [資料處理參數設定](#3)\n",
    "1. [資料處理](#4)\n",
    "    -  [載入模型](#4.1)\n",
    "    -  [定義方法](#4.2)\n",
    "    -  [批次圖片處理](#4.3)\n",
    "        -  [生成圖片資料集](#4.3.1)\n",
    "        -  [列出原始圖片](#4.3.2)\n",
    "        -  [生成熱視圖](#4.3.3)\n",
    "        -  [疊加圖片](#4.3.4)\n",
    "    -  [單圖片處理](#4.4)\n",
    "        -  [列出原始圖片](#4.4.1)\n",
    "        -  [生成熱視圖](#4.4.2)\n",
    "        -  [疊加圖片](#4.4.3)"
   ]
  },
  {
   "cell_type": "markdown",
   "metadata": {},
   "source": [
    "# 1. 套件安裝與載入<a class=\"anchor\" id=\"1\"></a>\n",
    "[Back to Table of Contents](#0)"
   ]
  },
  {
   "cell_type": "code",
   "execution_count": null,
   "metadata": {},
   "outputs": [],
   "source": [
    "# !pip install -q efficientnet\n",
    "# import efficientnet.tfkeras as efn"
   ]
  },
  {
   "cell_type": "code",
   "execution_count": null,
   "metadata": {},
   "outputs": [],
   "source": [
    "!pip install tensorflow-addons\n",
    "import tensorflow_addons.optimizers as addons_optimizers"
   ]
  },
  {
   "cell_type": "code",
   "execution_count": null,
   "metadata": {},
   "outputs": [],
   "source": [
    "# 資料處理套件\n",
    "import os\n",
    "import cv2\n",
    "import random\n",
    "import numpy as np\n",
    "import pandas as pd\n",
    "import matplotlib.cm as cm\n",
    "import matplotlib.pyplot as plt\n",
    "\n",
    "from sklearn.model_selection import train_test_split"
   ]
  },
  {
   "cell_type": "code",
   "execution_count": null,
   "metadata": {},
   "outputs": [],
   "source": [
    "# 設定顯示中文字體\n",
    "from matplotlib.font_manager import FontProperties\n",
    "plt.rcParams['font.sans-serif'] = ['Microsoft JhengHei'] # 用來正常顯示中文標籤\n",
    "plt.rcParams['font.family'] = 'AR PL UMing CN'\n",
    "plt.rcParams['axes.unicode_minus'] = False # 用來正常顯示負號"
   ]
  },
  {
   "cell_type": "code",
   "execution_count": null,
   "metadata": {},
   "outputs": [],
   "source": [
    "# # tensorflow深度學習模組套件\n",
    "import tensorflow as tf\n",
    "import tensorflow.keras.backend as K\n",
    "\n",
    "from tensorflow import keras\n",
    "from tensorflow.keras.preprocessing import image\n",
    "from tensorflow.keras.applications import imagenet_utils\n",
    "from tensorflow.keras.preprocessing.image import ImageDataGenerator\n",
    "from tensorflow.python.client import device_lib"
   ]
  },
  {
   "cell_type": "markdown",
   "metadata": {},
   "source": [
    "# 2. 環境檢測與設定<a class=\"anchor\" id=\"2\"></a>\n",
    "[Back to Table of Contents](#0)"
   ]
  },
  {
   "cell_type": "code",
   "execution_count": null,
   "metadata": {},
   "outputs": [],
   "source": [
    "# 查看設備\n",
    "print(device_lib.list_local_devices())"
   ]
  },
  {
   "cell_type": "code",
   "execution_count": null,
   "metadata": {},
   "outputs": [],
   "source": [
    "# 查看tensorflow版本\n",
    "print(tf.__version__)\n",
    "\n",
    "# 查看圖像通道位置\n",
    "print(K.image_data_format())"
   ]
  },
  {
   "cell_type": "code",
   "execution_count": null,
   "metadata": {},
   "outputs": [],
   "source": [
    "'''執行環境參數設定'''\n",
    "\n",
    "# (Boolean)是否為本機\n",
    "LOCAL = True\n",
    "\n",
    "# (Boolean)是否為 Colab\n",
    "COLAB = False\n",
    "\n",
    "# (String)CPU/GPU/TPU\n",
    "DEVICE = \"GPU\"\n",
    "\n",
    "\n",
    "'''檔案路徑參數設定'''\n",
    "\n",
    "# (String)Root路徑\n",
    "if LOCAL:\n",
    "    PATH = r'../'\n",
    "elif COLAB:\n",
    "    PATH = r'/content/drive/My Drive/Colab Notebooks/'\n",
    "else:\n",
    "    PATH = r'../input/'\n",
    "    \n",
    "# (String)資料根路徑\n",
    "# DATA_ROOT_PATH = PATH+r'datasets/AI_CUP_2020_AIMango_Grade_Classification/' \n",
    "DATA_ROOT_PATH = PATH+r'datasets/faces_glintasia_112x112_folders/' \n",
    "\n",
    "# (String)訓練資料路徑\n",
    "# TRAIN_DATA_PATH = DATA_ROOT_PATH+r'C1-P2_Train Dev/Test_Cropped'\n",
    "TRAIN_DATA_PATH = DATA_ROOT_PATH\n",
    "\n",
    "# (String)訓練CSV路徑，如為None則不讀CSV檔\n",
    "TRAIN_CSV_PATH = DATA_ROOT_PATH+r'C1-P2_Train Dev/dev.csv'\n",
    "\n",
    "# (String)測試單張圖片檔案路徑\n",
    "# TRAIN_FILE_DATA_PATH = DATA_ROOT_PATH+r'C1-P2_Train Dev/Test_Cropped'\n",
    "TRAIN_FILE_DATA_PATH = DATA_ROOT_PATH+r'2'\n",
    "    \n",
    "# (String)測試單張圖片檔名\n",
    "# IMAGE_PATH =  TRAIN_FILE_DATA_PATH + '/00001.jpg'\n",
    "IMAGE_PATH =  TRAIN_FILE_DATA_PATH + '/34.jpg'\n",
    "\n",
    "# (String)儲存單張熱視圖的路徑檔名\n",
    "SINGLE_HEATMAP_PATH = \"single_heatmap.png\"\n",
    "\n",
    "# (String)儲存多張熱視圖的路徑檔名\n",
    "BATCH_HEATMAP_PATH = \"batch_heatmap.png\"\n",
    "\n",
    "# (String)模型名稱(使用哪個模型)\n",
    "# MODEL_NAME = 'efficientnetb7'\n",
    "# MODEL_NAME = 'se_mobile_facenet_glintasia_1000'\n",
    "MODEL_NAME = 'se_mobile_facenet_glintasia_2000'\n",
    "\n",
    "# (String)專案名稱\n",
    "# PROJECT_NAME = 'AI_CUP_2020_AIMango_Grade_Classification'\n",
    "PROJECT_NAME = 'Face_Recognition'\n",
    "\n",
    "# (String)模型的專案路徑\n",
    "PROJECT_PATH = PATH + r'models/'+PROJECT_NAME\n",
    "\n",
    "# (String)讀取模型的儲存路徑 \n",
    "LOAD_MODEL_PATH = PROJECT_PATH + r'/' + MODEL_NAME + '.h5'"
   ]
  },
  {
   "cell_type": "code",
   "execution_count": null,
   "metadata": {},
   "outputs": [],
   "source": [
    "if not LOCAL and COLAB:\n",
    "    from google.colab import drive\n",
    "    drive.mount('/content/drive')"
   ]
  },
  {
   "cell_type": "code",
   "execution_count": null,
   "metadata": {},
   "outputs": [],
   "source": [
    "if DEVICE != \"CPU\":\n",
    "    !nvidia-smi"
   ]
  },
  {
   "cell_type": "code",
   "execution_count": null,
   "metadata": {},
   "outputs": [],
   "source": [
    "if DEVICE == \"TPU\":\n",
    "    print(\"connecting to TPU...\")\n",
    "    try:\n",
    "        tpu = tf.distribute.cluster_resolver.TPUClusterResolver()\n",
    "        print('Running on TPU ', tpu.master())\n",
    "    except ValueError:\n",
    "        print(\"Could not connect to TPU\")\n",
    "        tpu = None\n",
    "\n",
    "    if tpu:\n",
    "        try:\n",
    "            print(\"initializing  TPU ...\")\n",
    "            tf.config.experimental_connect_to_cluster(tpu)\n",
    "            tf.tpu.experimental.initialize_tpu_system(tpu)\n",
    "            strategy = tf.distribute.experimental.TPUStrategy(tpu)\n",
    "            print(\"TPU initialized\")\n",
    "        except _:\n",
    "            print(\"failed to initialize TPU\")\n",
    "    else:\n",
    "        DEVICE = \"GPU\"\n",
    "\n",
    "if DEVICE != \"TPU\":\n",
    "    print(\"Using default strategy for CPU and single GPU\")\n",
    "    strategy = tf.distribute.get_strategy()\n",
    "\n",
    "if DEVICE == \"GPU\":\n",
    "    print(\"Num GPUs Available: \", len(tf.config.experimental.list_physical_devices('GPU')))\n",
    "    \n",
    "\n",
    "AUTO     = tf.data.experimental.AUTOTUNE\n",
    "REPLICAS = strategy.num_replicas_in_sync\n",
    "print(f'REPLICAS: {REPLICAS}')"
   ]
  },
  {
   "cell_type": "code",
   "execution_count": null,
   "metadata": {},
   "outputs": [],
   "source": [
    "# 動態申請顯存\n",
    "config = tf.compat.v1.ConfigProto()\n",
    "config.gpu_options.allow_growth = True\n",
    "session = tf.compat.v1.Session(config=config)"
   ]
  },
  {
   "cell_type": "code",
   "execution_count": null,
   "metadata": {},
   "outputs": [],
   "source": [
    "if os.path.isfile(TRAIN_CSV_PATH):\n",
    "    LOAD_CSV = True\n",
    "else:\n",
    "    LOAD_CSV = False"
   ]
  },
  {
   "cell_type": "markdown",
   "metadata": {},
   "source": [
    "# 3. 資料處理參數設定<a class=\"anchor\" id=\"3\"></a>\n",
    "[Back to Table of Contents](#0)"
   ]
  },
  {
   "cell_type": "code",
   "execution_count": null,
   "metadata": {},
   "outputs": [],
   "source": [
    "'''客製參數設定'''\n",
    "\n",
    "\n",
    "'''資料參數設定'''\n",
    "\n",
    "# (Int)圖片尺寸\n",
    "# IMAGE_SIZE = 224\n",
    "IMAGE_SIZE = 112\n",
    "\n",
    "# (String)CSV圖片檔名欄位(不包含路徑)\n",
    "IMAGE_NAME = 'image_id'\n",
    "\n",
    "# (String)CSV圖片檔名欄位(包含路徑)\n",
    "IMAGE_NAME_ROOT = 'image'\n",
    "\n",
    "# (String)CSV標籤欄位\n",
    "LABEL_NAME = 'grade'\n",
    "\n",
    "# (String)CSV標籤欄位類型\n",
    "LABEL_NAME_TYPE = 'string'\n",
    "\n",
    "# (Boolean)是否顯示標籤\n",
    "DISPLAY_LABEL = True\n",
    "    \n",
    "# (Boolean)是否印出完整模型\n",
    "MODEL_PRINT = False\n",
    "\n",
    "# (Boolean)是否印出模型網路層\n",
    "MODEL_LAYERS_PRINT = False\n",
    "\n",
    "# (Boolean)是否生成批次熱視圖\n",
    "GENERATE_BATCH_HEATMAP = True\n",
    "\n",
    "# (Boolean)是否儲存批次熱視圖\n",
    "SAVE_BATCH_HEATMAP = False\n",
    "\n",
    "# (Boolean)是否生成單張熱視圖\n",
    "GENERATE_SINGLE_HEATMAP = True\n",
    "\n",
    "# (Boolean)是否儲存單張熱視圖\n",
    "SAVE_SINGLE_HEATMAP = False\n",
    "\n",
    "# (Float)熱視強度\n",
    "INTENSITY = 0.4\n",
    "\n",
    "# (String)熱視圖Last Conv層Layer Name\n",
    "# LAST_CONV_LAYER_NAME = \"top_conv\"\n",
    "LAST_CONV_LAYER_NAME = \"conv2d_61\"\n",
    "\n",
    "# (String List)熱視圖Conv層之後的Classifier Layer Names\n",
    "# CLASSIFIER_LAYER_NAMES = [\n",
    "#     \"top_bn\",\n",
    "#     \"top_activation\",\n",
    "#     \"averagepooling2d_head\",\n",
    "#     \"flatten_head\",\n",
    "#     \"dense_head\",\n",
    "#     \"dropout_head\",\n",
    "#     \"predictions_head\"\n",
    "# ]\n",
    "CLASSIFIER_LAYER_NAMES = [\n",
    "    \"batch_normalization_47\",\n",
    "    \"p_re_lu_47\",\n",
    "    \"depthwise_conv2d_15\",\n",
    "    \"batch_normalization_48\",\n",
    "    \"conv2d_62\",\n",
    "    \"batch_normalization_49\",\n",
    "    \"p_re_lu_48\",\n",
    "    \"dropout\",\n",
    "    \"flatten\",\n",
    "    \"dense\",\n",
    "    \"embedding\",\n",
    "    \"softmax\"\n",
    "]\n",
    "\n",
    "\n",
    "'''資料集製作參數設定'''\n",
    "\n",
    "#  (String)預設：'rgb'，圖像是否轉換為 1 個或 3 個顏色通道\n",
    "COLOR_MODE = 'rgb'\n",
    "\n",
    "#  (String)預設：'categorical'，決定返回標籤數組的類型：\"categorical\" 將是 2D one-hot 編碼標籤\n",
    "CLASS_MODE = 'categorical'\n",
    "\n",
    "# (Int)不同的種子會產生不同的Random或分層K-FOLD分裂, 42則是預設固定種子\n",
    "SEED = 42\n",
    "\n",
    "# (Float)驗證集佔訓練集的比率，FOLDS>1則不啟用\n",
    "DATA_SPLIT = 0.2\n",
    "\n",
    "# (Int)每批訓練的尺寸\n",
    "BATCH_SIZE = 32\n",
    "\n",
    "\n",
    "''''圖表參數設定'''\n",
    "\n",
    "# (Int)原始圖片列表寬度\n",
    "ORINAL_PLOT_FIGSIZE_W = 10\n",
    "\n",
    "# (Int)原始圖片列表高度\n",
    "ORINAL_PLOT_FIGSIZE_H = 10\n",
    "\n",
    "# (Int)熱視圖列表寬度\n",
    "HEATMAP_PLOT_FIGSIZE_W = 10\n",
    "\n",
    "# (Int)熱視圖列表高度\n",
    "HEATMAP_PLOT_FIGSIZE_H = 10\n",
    "\n",
    "# (Int)熱視圖列表標題字型大小\n",
    "HEATMAP_PLOT_TITLE_FONTSIZE = 15"
   ]
  },
  {
   "cell_type": "code",
   "execution_count": null,
   "metadata": {},
   "outputs": [],
   "source": [
    "def seed_everything(seed=42):\n",
    "    random.seed(seed)\n",
    "    os.environ['PYTHONHASHSEED'] = str(seed)\n",
    "    np.random.seed(seed)\n",
    "    tf.random.set_seed(seed)\n",
    "    \n",
    "seed_everything(SEED)"
   ]
  },
  {
   "cell_type": "markdown",
   "metadata": {},
   "source": [
    "# 4. 資料處理<a class=\"anchor\" id=\"4\"></a>\n",
    "https://keras.io/examples/vision/grad_cam/\n",
    "\n",
    "[Back to Table of Contents](#0)"
   ]
  },
  {
   "cell_type": "markdown",
   "metadata": {},
   "source": [
    "## 4.1 載入模型 <a class=\"anchor\" id=\"4.1\"></a>\n",
    "[Back to Table of Contents](#0)"
   ]
  },
  {
   "cell_type": "code",
   "execution_count": null,
   "metadata": {},
   "outputs": [],
   "source": [
    "print(\"Reading the pre-trained model... \")\n",
    "model = keras.models.load_model(LOAD_MODEL_PATH)\n",
    "print(\"Reading done. \")\n",
    "\n",
    "if MODEL_PRINT:\n",
    "    model.summary()\n",
    "if MODEL_LAYERS_PRINT:\n",
    "    for layer in model.layers:\n",
    "        print(layer.name)"
   ]
  },
  {
   "cell_type": "markdown",
   "metadata": {},
   "source": [
    "## 4.2 定義方法 <a class=\"anchor\" id=\"4.2\"></a>\n",
    "[Back to Table of Contents](#0)"
   ]
  },
  {
   "cell_type": "code",
   "execution_count": null,
   "metadata": {},
   "outputs": [],
   "source": [
    "def get_img_array(img_path, size):\n",
    "    # `img` is a PIL image of size IMAGE_SIZExIMAGE_SIZE\n",
    "    img = keras.preprocessing.image.load_img(img_path, target_size=size)\n",
    "    # `array` is a float32 Numpy array of shape (IMAGE_SIZE, IMAGE_SIZE, 3)\n",
    "    array = keras.preprocessing.image.img_to_array(img)\n",
    "    # We add a dimension to transform our array into a \"batch\"\n",
    "    # of size (1, IMAGE_SIZE, IMAGE_SIZE, 3)\n",
    "    array = np.expand_dims(array, axis=0)\n",
    "    return array\n",
    "\n",
    "def make_gradcam_heatmap(img_array, model, last_conv_layer_name, classifier_layer_names):\n",
    "    # First, we create a model that maps the input image to the activations\n",
    "    # of the last conv layer\n",
    "    last_conv_layer = model.get_layer(LAST_CONV_LAYER_NAME)\n",
    "    last_conv_layer_model = keras.Model(model.inputs, last_conv_layer.output)\n",
    "\n",
    "    # Second, we create a model that maps the activations of the last conv\n",
    "    # layer to the final class predictions\n",
    "    classifier_input = keras.Input(shape=last_conv_layer.output.shape[1:])\n",
    "    x = classifier_input\n",
    "    for layer_name in CLASSIFIER_LAYER_NAMES:\n",
    "        x = model.get_layer(layer_name)(x)\n",
    "    classifier_model = keras.Model(classifier_input, x)\n",
    "\n",
    "    # Then, we compute the gradient of the top predicted class for our input image\n",
    "    # with respect to the activations of the last conv layer\n",
    "    with tf.GradientTape() as tape:\n",
    "        # Compute activations of the last conv layer and make the tape watch it\n",
    "        last_conv_layer_output = last_conv_layer_model(img_array)\n",
    "        tape.watch(last_conv_layer_output)\n",
    "        # Compute class predictions\n",
    "        preds = classifier_model(last_conv_layer_output)\n",
    "        top_pred_index = tf.argmax(preds[0])\n",
    "        top_class_channel = preds[:, top_pred_index]\n",
    "\n",
    "    # This is the gradient of the top predicted class with regard to\n",
    "    # the output feature map of the last conv layer\n",
    "    grads = tape.gradient(top_class_channel, last_conv_layer_output)\n",
    "\n",
    "    # This is a vector where each entry is the mean intensity of the gradient\n",
    "    # over a specific feature map channel\n",
    "    pooled_grads = tf.reduce_mean(grads, axis=(0, 1, 2))\n",
    "\n",
    "    # We multiply each channel in the feature map array\n",
    "    # by \"how important this channel is\" with regard to the top predicted class\n",
    "    last_conv_layer_output = last_conv_layer_output.numpy()[0]\n",
    "    pooled_grads = pooled_grads.numpy()\n",
    "    for i in range(pooled_grads.shape[-1]):\n",
    "        last_conv_layer_output[:, :, i] *= pooled_grads[i]\n",
    "\n",
    "    # The channel-wise mean of the resulting feature map\n",
    "    # is our heatmap of class activation\n",
    "    heatmap = np.mean(last_conv_layer_output, axis=-1)\n",
    "\n",
    "    # For visualization purpose, we will also normalize the heatmap between 0 & 1\n",
    "    heatmap = np.maximum(heatmap, 0) / np.max(heatmap)\n",
    "    return heatmap, top_pred_index.numpy()"
   ]
  },
  {
   "cell_type": "code",
   "execution_count": null,
   "metadata": {},
   "outputs": [],
   "source": [
    "def superimposed_img(img, heatmap, intensity, single):\n",
    "    if single:\n",
    "        # We load the original image\n",
    "        img = keras.preprocessing.image.load_img(img)\n",
    "        img = keras.preprocessing.image.img_to_array(img)\n",
    "\n",
    "    # We rescale heatmap to a range 0-255\n",
    "    heatmap = np.uint8(255 * heatmap)\n",
    "\n",
    "    # We use jet colormap to colorize heatmap\n",
    "    jet = cm.get_cmap(\"jet\")\n",
    "\n",
    "    # We use RGB values of the colormap\n",
    "    jet_colors = jet(np.arange(256))[:, :3]\n",
    "    jet_heatmap = jet_colors[heatmap]\n",
    "\n",
    "    # We create an image with RGB colorized heatmap\n",
    "    jet_heatmap = keras.preprocessing.image.array_to_img(jet_heatmap)\n",
    "    jet_heatmap = jet_heatmap.resize((img.shape[1], img.shape[0]))\n",
    "    jet_heatmap = keras.preprocessing.image.img_to_array(jet_heatmap)\n",
    "\n",
    "    # Superimpose the heatmap on original image\n",
    "    superimposed_img = jet_heatmap * intensity + img\n",
    "    superimposed_img = keras.preprocessing.image.array_to_img(superimposed_img)\n",
    "    return superimposed_img"
   ]
  },
  {
   "cell_type": "markdown",
   "metadata": {},
   "source": [
    "## 4.3 批次圖片處理 <a class=\"anchor\" id=\"4.3\"></a>\n",
    "[Back to Table of Contents](#0)"
   ]
  },
  {
   "cell_type": "markdown",
   "metadata": {},
   "source": [
    "### 4.3.1 生成圖片資料集 <a class=\"anchor\" id=\"4.3.1\"></a>\n",
    "[Back to Table of Contents](#0)"
   ]
  },
  {
   "cell_type": "code",
   "execution_count": null,
   "metadata": {},
   "outputs": [],
   "source": [
    "if LOAD_CSV:\n",
    "    print('Reading data...')\n",
    "\n",
    "    # 讀取訓練資料集CSV檔\n",
    "    train_csv = pd.read_csv(TRAIN_CSV_PATH,encoding=\"utf8\")\n",
    "\n",
    "    print('Reading data completed')"
   ]
  },
  {
   "cell_type": "code",
   "execution_count": null,
   "metadata": {},
   "outputs": [],
   "source": [
    "if LOAD_CSV:\n",
    "    label_list = []\n",
    "    train_list = []\n",
    "    for i in range(train_csv.shape[0]):\n",
    "        train_list.append(TRAIN_DATA_PATH + '/' + train_csv[IMAGE_NAME].iloc[i])\n",
    "        label_list.append(train_csv[LABEL_NAME].iloc[i])\n",
    "    df_train = pd.DataFrame(train_list)\n",
    "    df_train.columns = [IMAGE_NAME_ROOT]\n",
    "    df_train[LABEL_NAME] = label_list"
   ]
  },
  {
   "cell_type": "code",
   "execution_count": null,
   "metadata": {},
   "outputs": [],
   "source": [
    "if LOAD_CSV:\n",
    "    X_train, X_val, y_train, y_val = train_test_split(df_train[IMAGE_NAME_ROOT],df_train[LABEL_NAME], test_size = DATA_SPLIT, random_state = SEED)\n",
    "\n",
    "    validation_data = pd.DataFrame(X_val)\n",
    "    validation_data.columns = [IMAGE_NAME_ROOT]\n",
    "    validation_data[LABEL_NAME] = y_val\n",
    "    \n",
    "    validation_data[LABEL_NAME] = validation_data[LABEL_NAME].astype(LABEL_NAME_TYPE)\n",
    "\n",
    "    val_datagen = ImageDataGenerator(rescale = 1./255)\n",
    "    \n",
    "    validation_generator = val_datagen.flow_from_dataframe(\n",
    "         validation_data,\n",
    "         x_col = IMAGE_NAME_ROOT,\n",
    "         y_col = LABEL_NAME,\n",
    "         target_size = (IMAGE_SIZE, IMAGE_SIZE),\n",
    "         batch_size = BATCH_SIZE,\n",
    "         shuffle = False,\n",
    "         seed = SEED,\n",
    "         color_mode = COLOR_MODE,\n",
    "         class_mode = CLASS_MODE)"
   ]
  },
  {
   "cell_type": "code",
   "execution_count": null,
   "metadata": {},
   "outputs": [],
   "source": [
    "if not LOAD_CSV:\n",
    "    validation_datagen = ImageDataGenerator(rescale = 1. / 255,\n",
    "                                       validation_split = DATA_SPLIT)\n",
    "    \n",
    "    validation_generator = validation_datagen.flow_from_directory(\n",
    "                TRAIN_DATA_PATH, \n",
    "                target_size = (IMAGE_SIZE, IMAGE_SIZE), \n",
    "                batch_size = BATCH_SIZE, \n",
    "                shuffle = False, \n",
    "                seed = SEED, \n",
    "                color_mode = COLOR_MODE, \n",
    "                class_mode = CLASS_MODE, \n",
    "                subset = 'validation')"
   ]
  },
  {
   "cell_type": "code",
   "execution_count": null,
   "metadata": {},
   "outputs": [],
   "source": [
    "# 利用資料集找出分類項目\n",
    "CLASSES_LIST = []\n",
    "validation_dict = validation_generator.class_indices\n",
    "for key, value in validation_dict.items():\n",
    "    CLASSES_LIST.append(key)"
   ]
  },
  {
   "cell_type": "code",
   "execution_count": null,
   "metadata": {},
   "outputs": [],
   "source": [
    "if  GENERATE_BATCH_HEATMAP:\n",
    "    sample_data = validation_generator.__getitem__(1)[0] \n",
    "    sample_label = validation_generator.__getitem__(1)[1] "
   ]
  },
  {
   "cell_type": "markdown",
   "metadata": {},
   "source": [
    "### 4.3.2 列出原始圖片 <a class=\"anchor\" id=\"4.3.2\"></a>\n",
    "[Back to Table of Contents](#0)"
   ]
  },
  {
   "cell_type": "code",
   "execution_count": null,
   "metadata": {},
   "outputs": [],
   "source": [
    "if  GENERATE_BATCH_HEATMAP:\n",
    "    plt.figure(figsize=(ORINAL_PLOT_FIGSIZE_W,ORINAL_PLOT_FIGSIZE_H))\n",
    "    for i in range(12):\n",
    "        plt.subplot(3, 4, i + 1)\n",
    "        plt.axis('off')\n",
    "        plt.imshow(sample_data[i])\n",
    "\n",
    "        if DISPLAY_LABEL:\n",
    "            plt.title(CLASSES_LIST[np.argmax(sample_label[i])])"
   ]
  },
  {
   "cell_type": "markdown",
   "metadata": {},
   "source": [
    "### 4.3.3 生成熱視圖 <a class=\"anchor\" id=\"4.3.3\"></a>\n",
    "[Back to Table of Contents](#0)"
   ]
  },
  {
   "cell_type": "code",
   "execution_count": null,
   "metadata": {},
   "outputs": [],
   "source": [
    "if  GENERATE_BATCH_HEATMAP:\n",
    "    plt.figure(figsize=(HEATMAP_PLOT_FIGSIZE_W,HEATMAP_PLOT_FIGSIZE_H))\n",
    "    for i in range(12):\n",
    "        plt.subplot(3, 4, i + 1)\n",
    "        plt.axis('off')\n",
    "        heatmap, top_index = make_gradcam_heatmap(np.expand_dims(sample_data[i], axis=0), model, LAST_CONV_LAYER_NAME, CLASSIFIER_LAYER_NAMES)\n",
    "        plt.imshow(heatmap)\n",
    "\n",
    "        if DISPLAY_LABEL:\n",
    "            plt.title(CLASSES_LIST[np.argmax(sample_label[i])] + \" pred as: \" + CLASSES_LIST[top_index], fontsize=HEATMAP_PLOT_TITLE_FONTSIZE)"
   ]
  },
  {
   "cell_type": "markdown",
   "metadata": {},
   "source": [
    "### 4.3.4 疊加圖片 <a class=\"anchor\" id=\"4.3.4\"></a>\n",
    "[Back to Table of Contents](#0)"
   ]
  },
  {
   "cell_type": "code",
   "execution_count": null,
   "metadata": {},
   "outputs": [],
   "source": [
    "if  GENERATE_BATCH_HEATMAP:\n",
    "    plt.figure(figsize=(HEATMAP_PLOT_FIGSIZE_W,HEATMAP_PLOT_FIGSIZE_H))\n",
    "    for i in range(12):\n",
    "        plt.subplot(3, 4, i + 1)\n",
    "        plt.axis('off')\n",
    "        heatmap, top_index = make_gradcam_heatmap(np.expand_dims(sample_data[i], axis=0), model, LAST_CONV_LAYER_NAME, CLASSIFIER_LAYER_NAMES)\n",
    "        img = np.uint8(255 * sample_data[i])\n",
    "        s_img = superimposed_img(img, heatmap, INTENSITY, False)\n",
    "        plt.imshow(s_img)\n",
    "\n",
    "        if DISPLAY_LABEL:\n",
    "            plt.title(CLASSES_LIST[np.argmax(sample_label[i])] + \" pred as: \" + CLASSES_LIST[top_index], fontsize=HEATMAP_PLOT_TITLE_FONTSIZE)\n",
    "\n",
    "    if SAVE_BATCH_HEATMAP:\n",
    "        plt.savefig(BATCH_HEATMAP_PATH)"
   ]
  },
  {
   "cell_type": "markdown",
   "metadata": {},
   "source": [
    "## 4.4 單圖片處理 <a class=\"anchor\" id=\"4.4\"></a>\n",
    "[Back to Table of Contents](#0)"
   ]
  },
  {
   "cell_type": "markdown",
   "metadata": {},
   "source": [
    "### 4.4.1 列出原始圖片 <a class=\"anchor\" id=\"4.4.1\"></a>\n",
    "[Back to Table of Contents](#0)"
   ]
  },
  {
   "cell_type": "code",
   "execution_count": null,
   "metadata": {},
   "outputs": [],
   "source": [
    "if GENERATE_SINGLE_HEATMAP:\n",
    "    # 圖片轉成陣列格式\n",
    "    img_array = get_img_array(IMAGE_PATH, size=(IMAGE_SIZE,IMAGE_SIZE))\n",
    "\n",
    "    # 對圖片進行編碼\n",
    "    img_array = imagenet_utils.preprocess_input(img_array, mode = 'tf')\n",
    "\n",
    "    # Imshow Image\n",
    "    plt.imshow(plt.imread(IMAGE_PATH))\n",
    "    plt.axis('off') # 不顯示座標軸\n",
    "    plt.show()"
   ]
  },
  {
   "cell_type": "markdown",
   "metadata": {},
   "source": [
    "### 4.4.2 生成熱視圖 <a class=\"anchor\" id=\"4.4.2\"></a>\n",
    "[Back to Table of Contents](#0)"
   ]
  },
  {
   "cell_type": "code",
   "execution_count": null,
   "metadata": {},
   "outputs": [],
   "source": [
    "if GENERATE_SINGLE_HEATMAP:\n",
    "    heatmap, top_index = make_gradcam_heatmap(img_array, model, LAST_CONV_LAYER_NAME, CLASSIFIER_LAYER_NAMES)\n",
    "\n",
    "    if DISPLAY_LABEL:\n",
    "        print(\"predicted as\", CLASSES_LIST[top_index])\n",
    "\n",
    "    # Imshow Heatmap\n",
    "    plt.imshow(heatmap)\n",
    "    plt.axis('off') # 不顯示座標軸\n",
    "    plt.show()"
   ]
  },
  {
   "cell_type": "markdown",
   "metadata": {},
   "source": [
    "### 4.4.3 疊加圖片 <a class=\"anchor\" id=\"4.4.3\"></a>\n",
    "[Back to Table of Contents](#0)"
   ]
  },
  {
   "cell_type": "code",
   "execution_count": null,
   "metadata": {},
   "outputs": [],
   "source": [
    "if GENERATE_SINGLE_HEATMAP:\n",
    "    s_img = superimposed_img(IMAGE_PATH, heatmap, INTENSITY, True)\n",
    "\n",
    "    # Imshow Grad CAM\n",
    "    plt.imshow(s_img)\n",
    "    plt.axis('off') # 不顯示座標軸\n",
    "    if SAVE_SINGLE_HEATMAP:\n",
    "        plt.savefig(SINGLE_HEATMAP_PATH)\n",
    "    plt.show()"
   ]
  }
 ],
 "metadata": {
  "kernelspec": {
   "display_name": "Python 3",
   "language": "python",
   "name": "python3"
  },
  "language_info": {
   "codemirror_mode": {
    "name": "ipython",
    "version": 3
   },
   "file_extension": ".py",
   "mimetype": "text/x-python",
   "name": "python",
   "nbconvert_exporter": "python",
   "pygments_lexer": "ipython3",
   "version": "3.6.9"
  }
 },
 "nbformat": 4,
 "nbformat_minor": 4
}